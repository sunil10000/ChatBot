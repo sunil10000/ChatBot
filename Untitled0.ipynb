{
  "nbformat": 4,
  "nbformat_minor": 0,
  "metadata": {
    "colab": {
      "name": "Untitled0.ipynb",
      "provenance": [],
      "include_colab_link": true
    },
    "kernelspec": {
      "name": "python3",
      "display_name": "Python 3"
    },
    "accelerator": "GPU"
  },
  "cells": [
    {
      "cell_type": "markdown",
      "metadata": {
        "id": "view-in-github",
        "colab_type": "text"
      },
      "source": [
        "<a href=\"https://colab.research.google.com/github/sunil10000/ChatBot/blob/master/Untitled0.ipynb\" target=\"_parent\"><img src=\"https://colab.research.google.com/assets/colab-badge.svg\" alt=\"Open In Colab\"/></a>"
      ]
    },
    {
      "cell_type": "code",
      "metadata": {
        "id": "Rk5ktB0rz-uy",
        "colab_type": "code",
        "colab": {}
      },
      "source": [
        "!pip install torch"
      ],
      "execution_count": 0,
      "outputs": []
    },
    {
      "cell_type": "code",
      "metadata": {
        "id": "Dwac8Nfg1Tx0",
        "colab_type": "code",
        "colab": {}
      },
      "source": [
        "import torch\n",
        "print(torch.__version__)"
      ],
      "execution_count": 0,
      "outputs": []
    },
    {
      "cell_type": "code",
      "metadata": {
        "id": "tXbcfV8m1yyM",
        "colab_type": "code",
        "colab": {}
      },
      "source": [
        "from google.colab import drive\n",
        "drive.mount('/content/drive')\n"
      ],
      "execution_count": 0,
      "outputs": []
    },
    {
      "cell_type": "code",
      "metadata": {
        "id": "l4QnMninEOUP",
        "colab_type": "code",
        "colab": {}
      },
      "source": [
        ""
      ],
      "execution_count": 0,
      "outputs": []
    },
    {
      "cell_type": "code",
      "metadata": {
        "id": "6Vp7U-0a6DnE",
        "colab_type": "code",
        "colab": {}
      },
      "source": [
        "!wget http://www.cs.cornell.edu/~cristian/data/cornell_movie_dialogs_corpus.zip\n",
        "!pwd\n",
        "!unzip cornell_movie_dialogs_corpus.zip\n",
        "\n",
        "!wget http://www.cs.cornell.edu/~cristian/data/cornell_movie_dialogs_corpus.zip -P \"drive/My Drive/Colab Notebooks/\" \n",
        "!unzip '/content/drive/My Drive/Colab Notebooks/cornell_movie_dialogs_corpus.zip' -d \"drive/My Drive/Colab Notebooks\""
      ],
      "execution_count": 0,
      "outputs": []
    },
    {
      "cell_type": "code",
      "metadata": {
        "id": "SeBodaTC6QQU",
        "colab_type": "code",
        "colab": {}
      },
      "source": [
        "import torch\n",
        "import torch.nn as nn\n",
        "from torch import optim\n",
        "import torch.nn.functional as F\n",
        "import csv\n",
        "import random\n",
        "import re\n",
        "import os\n",
        "import unicodedata\n",
        "import codecs\n",
        "import itertools"
      ],
      "execution_count": 0,
      "outputs": []
    },
    {
      "cell_type": "code",
      "metadata": {
        "id": "5wy0_4UVD6wJ",
        "colab_type": "code",
        "colab": {
          "base_uri": "https://localhost:8080/",
          "height": 35
        },
        "outputId": "bf10e785-433c-4e8c-8a51-3ec9ff6ade16"
      },
      "source": [
        "CUDA = torch.cuda.is_available()\n",
        "print(CUDA)\n",
        "device = torch.device(\"cuda\" if CUDA else \"cpu\")"
      ],
      "execution_count": 51,
      "outputs": [
        {
          "output_type": "stream",
          "text": [
            "True\n"
          ],
          "name": "stdout"
        }
      ]
    },
    {
      "cell_type": "code",
      "metadata": {
        "id": "QnKJTfobEQDq",
        "colab_type": "code",
        "colab": {}
      },
      "source": [
        "lines_filepath = os.path.join(\"cornell movie-dialogs corpus\",\"movie_lines.txt\")\n",
        "conv_filepath = os.path.join(\"cornell movie-dialogs corpus\",\"movie_conversations.txt\")"
      ],
      "execution_count": 0,
      "outputs": []
    },
    {
      "cell_type": "code",
      "metadata": {
        "id": "CHfx1qleEu0g",
        "colab_type": "code",
        "colab": {
          "base_uri": "https://localhost:8080/",
          "height": 184
        },
        "outputId": "7b943b24-8260-431c-810e-846042e0a67d"
      },
      "source": [
        "#visualizing some lines\n",
        "with open(lines_filepath,'r',encoding='iso-8859-1') as file:\n",
        "  lines = file.readlines()\n",
        "for line in lines[:8]:\n",
        "  print(line.strip())"
      ],
      "execution_count": 55,
      "outputs": [
        {
          "output_type": "stream",
          "text": [
            "L1045 +++$+++ u0 +++$+++ m0 +++$+++ BIANCA +++$+++ They do not!\n",
            "L1044 +++$+++ u2 +++$+++ m0 +++$+++ CAMERON +++$+++ They do to!\n",
            "L985 +++$+++ u0 +++$+++ m0 +++$+++ BIANCA +++$+++ I hope so.\n",
            "L984 +++$+++ u2 +++$+++ m0 +++$+++ CAMERON +++$+++ She okay?\n",
            "L925 +++$+++ u0 +++$+++ m0 +++$+++ BIANCA +++$+++ Let's go.\n",
            "L924 +++$+++ u2 +++$+++ m0 +++$+++ CAMERON +++$+++ Wow\n",
            "L872 +++$+++ u0 +++$+++ m0 +++$+++ BIANCA +++$+++ Okay -- you're gonna need to learn how to lie.\n",
            "L871 +++$+++ u2 +++$+++ m0 +++$+++ CAMERON +++$+++ No\n"
          ],
          "name": "stdout"
        }
      ]
    },
    {
      "cell_type": "code",
      "metadata": {
        "id": "qKvD7OsLFmyS",
        "colab_type": "code",
        "colab": {}
      },
      "source": [
        "line_fields = [\"lineID\", \"characterID\", \"movieID\", \"character\",\"text\"]\n",
        "lines = {}\n",
        "with open(lines_filepath, 'r', encoding='iso-8859-1') as f:\n",
        "  for line in f:\n",
        "    values = line.split(\" +++$+++ \")\n",
        "    lineObj = {}\n",
        "    for i,field in enumerate(line_fields):\n",
        "      lineObj[field] = values[i]\n",
        "    lines[lineObj['lineID']] = lineObj"
      ],
      "execution_count": 0,
      "outputs": []
    },
    {
      "cell_type": "code",
      "metadata": {
        "id": "Q1P7fCaZGoCi",
        "colab_type": "code",
        "colab": {
          "base_uri": "https://localhost:8080/",
          "height": 129
        },
        "outputId": "a78cb217-0c4e-4ccc-8840-f909629aad32"
      },
      "source": [
        "lines['L194']"
      ],
      "execution_count": 77,
      "outputs": [
        {
          "output_type": "execute_result",
          "data": {
            "text/plain": [
              "{'character': 'BIANCA',\n",
              " 'characterID': 'u0',\n",
              " 'lineID': 'L194',\n",
              " 'movieID': 'm0',\n",
              " 'text': 'Can we make this quick?  Roxanne Korrine and Andrew Barrett are having an incredibly horrendous public break- up on the quad.  Again.\\n'}"
            ]
          },
          "metadata": {
            "tags": []
          },
          "execution_count": 77
        }
      ]
    },
    {
      "cell_type": "code",
      "metadata": {
        "id": "Tl6mY4vaG9JR",
        "colab_type": "code",
        "colab": {}
      },
      "source": [
        "conv_fields = [\"character1ID\", \"character2ID\", \"movieID\", \"utteranceIDs\"]\n",
        "conversations = []\n",
        "with open(conv_filepath, 'r', encoding='iso-8859-1') as f:\n",
        "  for line in f:\n",
        "    values = line.split(\" +++$+++ \")\n",
        "    convObj = {}\n",
        "    for i,feild in enumerate(conv_fields):\n",
        "      convObj[feild] = values[i]\n",
        "    \n",
        "    lineIDs = eval(convObj[\"utteranceIDs\"])\n",
        "    \n",
        "    convObj[\"lines\"] = []\n",
        "    for lineId in lineIDs:\n",
        "      convObj[\"lines\"].append(lines[lineId])\n",
        "    conversations.append(convObj)"
      ],
      "execution_count": 0,
      "outputs": []
    },
    {
      "cell_type": "code",
      "metadata": {
        "id": "kS_z9sl2Jxfb",
        "colab_type": "code",
        "colab": {
          "base_uri": "https://localhost:8080/",
          "height": 478
        },
        "outputId": "2137cc91-4509-462b-c325-ab52990950ed"
      },
      "source": [
        "conversations[0]"
      ],
      "execution_count": 72,
      "outputs": [
        {
          "output_type": "execute_result",
          "data": {
            "text/plain": [
              "{'character1ID': 'u0',\n",
              " 'character2ID': 'u2',\n",
              " 'lines': [{'character': 'BIANCA',\n",
              "   'characterID': 'u0',\n",
              "   'lineID': 'L194',\n",
              "   'movieID': 'm0',\n",
              "   'text': 'Can we make this quick?  Roxanne Korrine and Andrew Barrett are having an incredibly horrendous public break- up on the quad.  Again.\\n'},\n",
              "  {'character': 'CAMERON',\n",
              "   'characterID': 'u2',\n",
              "   'lineID': 'L195',\n",
              "   'movieID': 'm0',\n",
              "   'text': \"Well, I thought we'd start with pronunciation, if that's okay with you.\\n\"},\n",
              "  {'character': 'BIANCA',\n",
              "   'characterID': 'u0',\n",
              "   'lineID': 'L196',\n",
              "   'movieID': 'm0',\n",
              "   'text': 'Not the hacking and gagging and spitting part.  Please.\\n'},\n",
              "  {'character': 'CAMERON',\n",
              "   'characterID': 'u2',\n",
              "   'lineID': 'L197',\n",
              "   'movieID': 'm0',\n",
              "   'text': \"Okay... then how 'bout we try out some French cuisine.  Saturday?  Night?\\n\"}],\n",
              " 'movieID': 'm0',\n",
              " 'utteranceIDs': \"['L194', 'L195', 'L196', 'L197']\\n\"}"
            ]
          },
          "metadata": {
            "tags": []
          },
          "execution_count": 72
        }
      ]
    },
    {
      "cell_type": "code",
      "metadata": {
        "id": "_uyewr-MJ9zc",
        "colab_type": "code",
        "colab": {}
      },
      "source": [
        "# extracting pairs of conversations\n",
        "qa_pairs = []\n",
        "for conversation in conversations:\n",
        "  for i in range(len(conversation[\"lines\"])-1):\n",
        "    inputLine = conversation[\"lines\"][i][\"text\"].strip()\n",
        "    targetLine = conversation[\"lines\"][i+1][\"text\"].strip()\n",
        "    if inputLine and targetLine:\n",
        "      qa_pairs.append([inputLine, targetLine])\n"
      ],
      "execution_count": 0,
      "outputs": []
    },
    {
      "cell_type": "code",
      "metadata": {
        "id": "3rrq3MoRLDbd",
        "colab_type": "code",
        "colab": {
          "base_uri": "https://localhost:8080/",
          "height": 74
        },
        "outputId": "7f61a0e9-69d4-4f15-f93c-7720dbaf2d03"
      },
      "source": [
        "# visualizing\n",
        "qa_pairs[0]"
      ],
      "execution_count": 75,
      "outputs": [
        {
          "output_type": "execute_result",
          "data": {
            "text/plain": [
              "['Can we make this quick?  Roxanne Korrine and Andrew Barrett are having an incredibly horrendous public break- up on the quad.  Again.',\n",
              " \"Well, I thought we'd start with pronunciation, if that's okay with you.\"]"
            ]
          },
          "metadata": {
            "tags": []
          },
          "execution_count": 75
        }
      ]
    },
    {
      "cell_type": "code",
      "metadata": {
        "id": "o4J9mEy4LUf-",
        "colab_type": "code",
        "colab": {
          "base_uri": "https://localhost:8080/",
          "height": 72
        },
        "outputId": "0863e0e8-2e25-4ff7-96ad-64ba86c3daa9"
      },
      "source": [
        "# defining path for new file \n",
        "datafile = os.path.join(\"cornell movie-dialogs corpus\",\"formatted_movie_lines.txt\")\n",
        "delimiter = '\\t'\n",
        "#unescape the delimiter\n",
        "delimiter = str(codecs.decode(delimiter,\"unicode_escape\"))\n",
        "\n",
        "print(\"\\nWriting newly formatted file...\")\n",
        "with open(datafile, 'w', encoding='utf-8') as outputfile:\n",
        "    writer = csv.writer(outputfile, delimiter=delimiter)\n",
        "    for pair in qa_pairs:\n",
        "        writer.writerow(pair)\n",
        "print(\"done writing file...\")"
      ],
      "execution_count": 79,
      "outputs": [
        {
          "output_type": "stream",
          "text": [
            "\n",
            "Writing newly formatted file...\n",
            "done writing file...\n"
          ],
          "name": "stdout"
        }
      ]
    },
    {
      "cell_type": "code",
      "metadata": {
        "id": "C3rHvIThMXeq",
        "colab_type": "code",
        "colab": {
          "base_uri": "https://localhost:8080/",
          "height": 129
        },
        "outputId": "e246328a-52cb-46b8-d56f-492edde6d18a"
      },
      "source": [
        "#visualizing data\n",
        "\n",
        "with open(datafile, 'rb') as f:\n",
        "  lines = f.readlines()\n",
        "for line in lines[:5]:\n",
        "  print(line)"
      ],
      "execution_count": 80,
      "outputs": [
        {
          "output_type": "stream",
          "text": [
            "b\"Can we make this quick?  Roxanne Korrine and Andrew Barrett are having an incredibly horrendous public break- up on the quad.  Again.\\tWell, I thought we'd start with pronunciation, if that's okay with you.\\r\\n\"\n",
            "b\"Well, I thought we'd start with pronunciation, if that's okay with you.\\tNot the hacking and gagging and spitting part.  Please.\\r\\n\"\n",
            "b\"Not the hacking and gagging and spitting part.  Please.\\tOkay... then how 'bout we try out some French cuisine.  Saturday?  Night?\\r\\n\"\n",
            "b\"You're asking me out.  That's so cute. What's your name again?\\tForget it.\\r\\n\"\n",
            "b\"No, no, it's my fault -- we didn't have a proper introduction ---\\tCameron.\\r\\n\"\n"
          ],
          "name": "stdout"
        }
      ]
    },
    {
      "cell_type": "code",
      "metadata": {
        "id": "4pHCvNvSMrs4",
        "colab_type": "code",
        "colab": {}
      },
      "source": [
        "PAD_token = 0  # Used for padding short sentences\n",
        "SOS_token = 1  # Start-of-sentence token\n",
        "EOS_token = 2  # End-of-sentence token\n",
        "\n",
        "class Voc:\n",
        "    def __init__(self, name):\n",
        "        self.name = name\n",
        "        self.trimmed = False\n",
        "        self.word2index = {}\n",
        "        self.word2count = {}\n",
        "        self.index2word = {PAD_token: \"PAD\", SOS_token: \"SOS\", EOS_token: \"EOS\"}\n",
        "        self.num_words = 3  # Count SOS, EOS, PAD\n",
        "\n",
        "    def addSentence(self, sentence):\n",
        "        for word in sentence.split(' '):\n",
        "            self.addWord(word)\n",
        "\n",
        "    def addWord(self, word):\n",
        "        if word not in self.word2index:\n",
        "            self.word2index[word] = self.num_words\n",
        "            self.word2count[word] = 1\n",
        "            self.index2word[self.num_words] = word\n",
        "            self.num_words += 1\n",
        "        else:\n",
        "            self.word2count[word] += 1\n",
        "\n",
        "    # Remove words below a certain count threshold\n",
        "    def trim(self, min_count):\n",
        "        if self.trimmed:\n",
        "            return\n",
        "        self.trimmed = True\n",
        "\n",
        "        keep_words = []\n",
        "\n",
        "        for k, v in self.word2count.items():\n",
        "            if v >= min_count:\n",
        "                keep_words.append(k)\n",
        "\n",
        "        print('keep_words {} / {} = {:.4f}'.format(\n",
        "            len(keep_words), len(self.word2index), len(keep_words) / len(self.word2index)\n",
        "        ))\n",
        "\n",
        "        # Reinitialize dictionaries\n",
        "        self.word2index = {}\n",
        "        self.word2count = {}\n",
        "        self.index2word = {PAD_token: \"PAD\", SOS_token: \"SOS\", EOS_token: \"EOS\"}\n",
        "        self.num_words = 3 # Count default tokens\n",
        "\n",
        "        for word in keep_words:\n",
        "            self.addWord(word)\n"
      ],
      "execution_count": 0,
      "outputs": []
    },
    {
      "cell_type": "code",
      "metadata": {
        "id": "Bf69s65FNSdY",
        "colab_type": "code",
        "colab": {}
      },
      "source": [
        "# turn a unicode string to plain ASCII\n",
        "def unicodeToAscii(s):\n",
        "  return ''.join(c for c in unicodedata.normalize('NFD', s) \n",
        "                 if unicodedata.category(c) != \"Mn\")\n",
        "#Mn means non marking space"
      ],
      "execution_count": 0,
      "outputs": []
    },
    {
      "cell_type": "code",
      "metadata": {
        "id": "AOKRrHr_NzCv",
        "colab_type": "code",
        "colab": {
          "base_uri": "https://localhost:8080/",
          "height": 35
        },
        "outputId": "66674049-1ea0-4488-a8bb-6a032987e5e2"
      },
      "source": [
        "def normalizeString(s):\n",
        "  s = unicodeToAscii(s.lower().strip())\n",
        "  s = re.sub(r\"([.!?])\",r\" \\1\", s)\n",
        "  s = re.sub(r\"[^a-zA-Z.!?]+\", r\" \",s)\n",
        "  s = re.sub(r\"\\s+\", r\" \",s).strip()\n",
        "  return s\n",
        "\n",
        "normalizeString(\"aa123aa!s's  dd?\")\n",
        "             "
      ],
      "execution_count": 86,
      "outputs": [
        {
          "output_type": "execute_result",
          "data": {
            "text/plain": [
              "'aa aa !s s dd ?'"
            ]
          },
          "metadata": {
            "tags": []
          },
          "execution_count": 86
        }
      ]
    },
    {
      "cell_type": "code",
      "metadata": {
        "id": "bsUDFeN2PAE0",
        "colab_type": "code",
        "colab": {
          "base_uri": "https://localhost:8080/",
          "height": 35
        },
        "outputId": "dcdae1ba-a871-404c-bd2b-89b345a98153"
      },
      "source": [
        "# Storing formatted lines\n",
        "datafile = os.path.join(\"cornell movie-dialogs corpus\",\"formatted_movie_lines.txt\")\n",
        "lines = open(datafile, encoding='utf-8').read().strip().split('\\n')\n",
        "pairs = [[normalizeString(s) for s in pair.split('\\t')] for pair in lines]\n",
        "print(\"Done reading\")\n",
        "\n",
        "voc = Voc(\"cornell movie-dialogs corpus\")\n",
        "\n",
        "MAX_LENGTH = 10\n",
        "def filterPair(p):\n",
        "  return len(p[0].split()) < MAX_LENGTH and len(p[1].split()) < MAX_LENGTH\n",
        "\n",
        "def filterPairs(pairs):\n",
        "  return [pair for pair in pairs if filterPair(pair)]\n",
        "\n",
        "pairs = [pair for pair in pairs if len(pair)>1] # removing empty pairs\n",
        "pairs = filterPairs(pairs)  # removing big lines\n"
      ],
      "execution_count": 97,
      "outputs": [
        {
          "output_type": "stream",
          "text": [
            "Done reading\n"
          ],
          "name": "stdout"
        }
      ]
    },
    {
      "cell_type": "code",
      "metadata": {
        "id": "uqeTc0_YQ6KT",
        "colab_type": "code",
        "colab": {
          "base_uri": "https://localhost:8080/",
          "height": 54
        },
        "outputId": "810aa71c-c46d-447a-9154-befd7c4632f2"
      },
      "source": [
        "print(\"Total Pairs {}\".format(len(pairs)))\n",
        "for pair in pairs:\n",
        "  voc.addSentence(pair[0])\n",
        "  voc.addSentence(pair[1])\n",
        "print(\"counted words\", voc.num_words)"
      ],
      "execution_count": 98,
      "outputs": [
        {
          "output_type": "stream",
          "text": [
            "Total Pairs 64271\n",
            "counted words 18008\n"
          ],
          "name": "stdout"
        }
      ]
    },
    {
      "cell_type": "code",
      "metadata": {
        "id": "4oTUldT9RbN7",
        "colab_type": "code",
        "colab": {
          "base_uri": "https://localhost:8080/",
          "height": 72
        },
        "outputId": "f11b00dc-8d50-458b-c124-941046133a36"
      },
      "source": [
        "MIN_COUNT = 3\n",
        "print(len(pairs))\n",
        "def trimRareWords(voc, pairs, MIN_COUNT):\n",
        "  voc.trim(MIN_COUNT)\n",
        "  keep_pairs = []\n",
        "  for pair in pairs:\n",
        "    input_sentence = pair[0]\n",
        "    output_sentence = pair[1]\n",
        "    keep_input = True\n",
        "    keep_output = True\n",
        "    \n",
        "    for word in input_sentence.split(' '):\n",
        "      if word not in voc.word2index:\n",
        "        keep_input = False\n",
        "        break\n",
        "    \n",
        "    for word in output_sentence.split(' '):\n",
        "      if word not in voc.word2index:\n",
        "        keep_output = False\n",
        "        break\n",
        "    \n",
        "    if keep_input and keep_output:\n",
        "      keep_pairs.append(pair)\n",
        "    \n",
        "  print(\"Trimmed from {} pairs to {},{:.4f} of total\".format(len(pairs),len(keep_pairs)\n",
        "                                                               ,len(keep_pairs)/len(pairs)))\n",
        "  return keep_pairs\n",
        "  \n",
        "pairs = trimRareWords(voc, pairs, MIN_COUNT)"
      ],
      "execution_count": 99,
      "outputs": [
        {
          "output_type": "stream",
          "text": [
            "64271\n",
            "keep_words 7823 / 18005 = 0.4345\n",
            "Trimmed from 64271 pairs to 53165,0.8272 of total\n"
          ],
          "name": "stdout"
        }
      ]
    },
    {
      "cell_type": "code",
      "metadata": {
        "id": "_fIubB22UOle",
        "colab_type": "code",
        "colab": {
          "base_uri": "https://localhost:8080/",
          "height": 35
        },
        "outputId": "4992d92d-7bcc-4c45-9280-411269e26f46"
      },
      "source": [
        "def indexesFromSentence(voc, sentence):\n",
        "  return [voc.word2index[word] for word in sentence.split(' ')] + [EOS_token]\n",
        "\n",
        "indexesFromSentence(voc, pairs[1][0])"
      ],
      "execution_count": 101,
      "outputs": [
        {
          "output_type": "execute_result",
          "data": {
            "text/plain": [
              "[7, 8, 9, 10, 4, 11, 12, 13, 2]"
            ]
          },
          "metadata": {
            "tags": []
          },
          "execution_count": 101
        }
      ]
    },
    {
      "cell_type": "code",
      "metadata": {
        "id": "6AHfYpwiUpAw",
        "colab_type": "code",
        "colab": {
          "base_uri": "https://localhost:8080/",
          "height": 257
        },
        "outputId": "f530a6d0-b96a-4098-99ed-a66054484736"
      },
      "source": [
        "# define some samples for testing\n",
        "inp = []\n",
        "out = []\n",
        "for pair in pairs[:10]:\n",
        "  inp.append(pair[0])\n",
        "  out.append(pair[1])\n",
        "print(inp)\n",
        "print(len(inp))\n",
        "indexes = [indexesFromSentence(voc, sentence) for sentence in inp]\n",
        "indexes"
      ],
      "execution_count": 103,
      "outputs": [
        {
          "output_type": "stream",
          "text": [
            "['there .', 'you have my word . as a gentleman', 'hi .', 'have fun tonight ?', 'well no . . .', 'then that s all you had to say .', 'but', 'do you listen to this crap ?', 'what good stuff ?', 'wow']\n",
            "10\n"
          ],
          "name": "stdout"
        },
        {
          "output_type": "execute_result",
          "data": {
            "text/plain": [
              "[[3, 4, 2],\n",
              " [7, 8, 9, 10, 4, 11, 12, 13, 2],\n",
              " [16, 4, 2],\n",
              " [8, 31, 22, 6, 2],\n",
              " [33, 34, 4, 4, 4, 2],\n",
              " [35, 36, 37, 38, 7, 39, 40, 41, 4, 2],\n",
              " [42, 2],\n",
              " [47, 7, 48, 40, 45, 49, 6, 2],\n",
              " [50, 51, 52, 6, 2],\n",
              " [58, 2]]"
            ]
          },
          "metadata": {
            "tags": []
          },
          "execution_count": 103
        }
      ]
    },
    {
      "cell_type": "code",
      "metadata": {
        "id": "jlHmIlxiVMKG",
        "colab_type": "code",
        "colab": {
          "base_uri": "https://localhost:8080/",
          "height": 219
        },
        "outputId": "87f9ac7e-7116-424b-bd31-f23d836a62da"
      },
      "source": [
        "def zeroPadding(l, fillvalue=0):\n",
        "  return list(itertools.zip_longest(*l, fillvalue=fillvalue))\n",
        "\n",
        "test_result = zeroPadding(indexes)\n",
        "print(len(test_result))\n",
        "test_result"
      ],
      "execution_count": 104,
      "outputs": [
        {
          "output_type": "stream",
          "text": [
            "10\n"
          ],
          "name": "stdout"
        },
        {
          "output_type": "execute_result",
          "data": {
            "text/plain": [
              "[(3, 7, 16, 8, 33, 35, 42, 47, 50, 58),\n",
              " (4, 8, 4, 31, 34, 36, 2, 7, 51, 2),\n",
              " (2, 9, 2, 22, 4, 37, 0, 48, 52, 0),\n",
              " (0, 10, 0, 6, 4, 38, 0, 40, 6, 0),\n",
              " (0, 4, 0, 2, 4, 7, 0, 45, 2, 0),\n",
              " (0, 11, 0, 0, 2, 39, 0, 49, 0, 0),\n",
              " (0, 12, 0, 0, 0, 40, 0, 6, 0, 0),\n",
              " (0, 13, 0, 0, 0, 41, 0, 2, 0, 0),\n",
              " (0, 2, 0, 0, 0, 4, 0, 0, 0, 0),\n",
              " (0, 0, 0, 0, 0, 2, 0, 0, 0, 0)]"
            ]
          },
          "metadata": {
            "tags": []
          },
          "execution_count": 104
        }
      ]
    },
    {
      "cell_type": "code",
      "metadata": {
        "id": "VWWTSYHuVo6v",
        "colab_type": "code",
        "colab": {
          "base_uri": "https://localhost:8080/",
          "height": 201
        },
        "outputId": "b804bce8-de75-42ba-c7d3-073dd6b2bff5"
      },
      "source": [
        "def binaryMatrix(l, value=0):\n",
        "  m = []\n",
        "  for i ,seq in enumerate(l):\n",
        "    m.append([])\n",
        "    for token in seq:\n",
        "      if token == PAD_token:\n",
        "        m[i].append(0)\n",
        "      else:\n",
        "        m[i].append(1)\n",
        "  return m\n",
        "  \n",
        "binaryMatrix(test_result)"
      ],
      "execution_count": 107,
      "outputs": [
        {
          "output_type": "execute_result",
          "data": {
            "text/plain": [
              "[[1, 1, 1, 1, 1, 1, 1, 1, 1, 1],\n",
              " [1, 1, 1, 1, 1, 1, 1, 1, 1, 1],\n",
              " [1, 1, 1, 1, 1, 1, 0, 1, 1, 0],\n",
              " [0, 1, 0, 1, 1, 1, 0, 1, 1, 0],\n",
              " [0, 1, 0, 1, 1, 1, 0, 1, 1, 0],\n",
              " [0, 1, 0, 0, 1, 1, 0, 1, 0, 0],\n",
              " [0, 1, 0, 0, 0, 1, 0, 1, 0, 0],\n",
              " [0, 1, 0, 0, 0, 1, 0, 1, 0, 0],\n",
              " [0, 1, 0, 0, 0, 1, 0, 0, 0, 0],\n",
              " [0, 0, 0, 0, 0, 1, 0, 0, 0, 0]]"
            ]
          },
          "metadata": {
            "tags": []
          },
          "execution_count": 107
        }
      ]
    },
    {
      "cell_type": "code",
      "metadata": {
        "id": "fcjYoR9TWLvM",
        "colab_type": "code",
        "colab": {}
      },
      "source": [
        "# Returns padded input sequence tensor and lengths\n",
        "def inputVar(l, voc):\n",
        "    indexes_batch = [indexesFromSentence(voc, sentence) for sentence in l]\n",
        "    lengths = torch.tensor([len(indexes) for indexes in indexes_batch])\n",
        "    padList = zeroPadding(indexes_batch)\n",
        "    padVar = torch.LongTensor(padList)\n",
        "    return padVar, lengths\n"
      ],
      "execution_count": 0,
      "outputs": []
    },
    {
      "cell_type": "code",
      "metadata": {
        "id": "73bmb1ITXPHn",
        "colab_type": "code",
        "colab": {}
      },
      "source": [
        "# Returns padded target sequence tensor, padding mask, and max target length\n",
        "def outputVar(l, voc):\n",
        "  indexes_batch = [indexesFromSentence(voc, sentence) for sentence in l]\n",
        "  max_target_len = max([len(indexes) for indexes in indexes_batch])\n",
        "  padList = zeroPadding(indexes_batch)\n",
        "  mask = binaryMatrix(padList)\n",
        "  mask = torch.ByteTensor(mask)\n",
        "  padVar = torch.LongTensor(padList)\n",
        "  return padVar, mask, max_target_len"
      ],
      "execution_count": 0,
      "outputs": []
    },
    {
      "cell_type": "code",
      "metadata": {
        "id": "mRRn2chJS_as",
        "colab_type": "code",
        "colab": {}
      },
      "source": [
        "# Returns all items for a given batch of sentence pairs\n",
        "def batch2TrainingData(voc, pair_batch):\n",
        "    pair_batch.sort(key=lambda x: len(x[0].split(\" \")), reverse=True)\n",
        "    input_batch, output_batch = [], []\n",
        "    for pair in pair_batch:\n",
        "        input_batch.append(pair[0])\n",
        "        output_batch.append(pair[1])\n",
        "    inp, lengths = inputVar(input_batch, voc)\n",
        "    output, mask, max_target_len = outputVar(output_batch, voc)\n",
        "    return inp, lengths, output, mask, max_target_len"
      ],
      "execution_count": 0,
      "outputs": []
    },
    {
      "cell_type": "code",
      "metadata": {
        "id": "vW5IHzoOYsYv",
        "colab_type": "code",
        "colab": {
          "base_uri": "https://localhost:8080/",
          "height": 586
        },
        "outputId": "0a9a25d0-aa26-444c-fd6e-d50fb4f4f35a"
      },
      "source": [
        "# a validation example\n",
        "small_batch_size = 5\n",
        "batches = batch2TrainingData(voc, [random.choice(pairs) for _ in range(small_batch_size)])\n",
        "input_variable,lenghts,target_variable,mask,max_target_len = batches\n",
        "\n",
        "print(\"input_variable:\")\n",
        "print(input_variable)\n",
        "print(\"lengths: \",lenghts)\n",
        "print(\"target_variables:\")\n",
        "print(target_variable)\n",
        "print(\"mask:\")\n",
        "print(mask)\n",
        "print(\"maxt_target_len:\", max_target_len)"
      ],
      "execution_count": 120,
      "outputs": [
        {
          "output_type": "stream",
          "text": [
            "input_variable:\n",
            "tensor([[ 124,    7,   25,   34,  437],\n",
            "        [  25,  192,  273, 2474,   83],\n",
            "        [ 132,    7, 1825,    4,    4],\n",
            "        [ 307,   89,    4,    2,    2],\n",
            "        [  66, 1095,    4,    0,    0],\n",
            "        [ 659,   45,    4,    0,    0],\n",
            "        [  25,  129,    2,    0,    0],\n",
            "        [ 410,    6,    0,    0,    0],\n",
            "        [   4,    2,    0,    0,    0],\n",
            "        [   2,    0,    0,    0,    0]])\n",
            "lengths:  tensor([10,  9,  7,  4,  4])\n",
            "target_variables:\n",
            "tensor([[  40, 1074,  463,   25,   25],\n",
            "        [6323,   56, 3510,   24,  410],\n",
            "        [   6,  795,    4,    4,   25],\n",
            "        [   2,    4,    4,    2,  557],\n",
            "        [   0,    4,    4,    0,    4],\n",
            "        [   0,    4,    6,    0,    2],\n",
            "        [   0,    4,    2,    0,    0],\n",
            "        [   0,    2,    0,    0,    0]])\n",
            "mask:\n",
            "tensor([[1, 1, 1, 1, 1],\n",
            "        [1, 1, 1, 1, 1],\n",
            "        [1, 1, 1, 1, 1],\n",
            "        [1, 1, 1, 1, 1],\n",
            "        [0, 1, 1, 0, 1],\n",
            "        [0, 1, 1, 0, 1],\n",
            "        [0, 1, 1, 0, 0],\n",
            "        [0, 1, 0, 0, 0]], dtype=torch.uint8)\n",
            "maxt_target_len: 8\n"
          ],
          "name": "stdout"
        }
      ]
    },
    {
      "cell_type": "code",
      "metadata": {
        "id": "-UmESkDDaaUy",
        "colab_type": "code",
        "colab": {}
      },
      "source": [
        "\n",
        "class EncoderRNN(nn.Module):\n",
        "  def __init__(self, hidden_size, embedding, n_layers=1, dropout=0):\n",
        "    super(EncoderRNN, self).__init__()\n",
        "    self.n_layers = n_layers\n",
        "    self.hidden_size = hidden_size\n",
        "    self.embedding = embedding\n",
        "    # Initialize GRU; the input_size and hidden_size params are both set to 'hidden_size'\n",
        "    # because our input size is a word embedding with number of features == hidden_size\n",
        "    self.gru = nn.GRU(hidden_size, hidden_size)\n"
      ],
      "execution_count": 0,
      "outputs": []
    }
  ]
}